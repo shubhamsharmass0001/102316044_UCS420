{
 "cells": [
  {
   "cell_type": "markdown",
   "metadata": {},
   "source": [
    "Q.1 Create a dataset as follow in the table."
   ]
  },
  {
   "cell_type": "code",
   "execution_count": 109,
   "metadata": {},
   "outputs": [
    {
     "name": "stdout",
     "output_type": "stream",
     "text": [
      "   Tid Refund Martial Status Taxable Income Cheat\n",
      "0    1    Yes         Single           125K    No\n",
      "1    2     No         Maried           100K    No\n",
      "2    3     No         Single            70K    No\n",
      "3    4    Yes         Maried           120K    No\n",
      "4    5     No       Divorced            95K   Yes\n",
      "5    6     No         Maried            60K    No\n",
      "6    7    Yes       Divorced           220K    No\n",
      "7    8     No         Single            85K   Yes\n",
      "8    9     No         Maried            75K    No\n",
      "9   10     No       Divorced            90K   Yes\n"
     ]
    }
   ],
   "source": [
    "import pandas as pd\n",
    "data = {\n",
    "    'Tid':[1,2,3,4,5,6,7,8,9,10],\n",
    "    'Refund':['Yes','No','No','Yes','No','No','Yes','No','No','No'],\n",
    "    'Martial Status':['Single','Maried','Single','Maried','Divorced','Maried','Divorced','Single','Maried','Divorced'],\n",
    "    'Taxable Income':['125K','100K','70K','120K','95K','60K','220K','85K','75K','90K'],\n",
    "    'Cheat':['No','No','No','No','Yes','No','No','Yes','No','Yes']   \n",
    "        }\n",
    "df = pd.DataFrame(data)\n",
    "df = df.reset_index(drop=True)\n",
    "print(df)"
   ]
  },
  {
   "cell_type": "markdown",
   "metadata": {},
   "source": [
    "Q.2 From the above table that you have created, locate row 0, 4, 7 and 8 using DataFrame."
   ]
  },
  {
   "cell_type": "code",
   "execution_count": 110,
   "metadata": {},
   "outputs": [
    {
     "name": "stdout",
     "output_type": "stream",
     "text": [
      "   Tid Refund Martial Status Taxable Income Cheat\n",
      "0    1    Yes         Single           125K    No\n",
      "4    5     No       Divorced            95K   Yes\n",
      "7    8     No         Single            85K   Yes\n",
      "8    9     No         Maried            75K    No\n"
     ]
    }
   ],
   "source": [
    "df1 = df.loc[[0,4,7,8]]\n",
    "print(df1)"
   ]
  },
  {
   "cell_type": "markdown",
   "metadata": {},
   "source": [
    "Q.3 Navigate the DataFrame and do the following task for the table created in question 1:\n",
    "1. Select row from index 3 to 7.\n",
    "2. Select row from index 4 to 8, and column 2 to 4.\n",
    "3. Select all rows with column index 1 to 3 (include index 3 during selection)."
   ]
  },
  {
   "cell_type": "code",
   "execution_count": 111,
   "metadata": {},
   "outputs": [
    {
     "name": "stdout",
     "output_type": "stream",
     "text": [
      "task1 \n",
      "\n",
      "   Tid Refund Martial Status Taxable Income Cheat\n",
      "3    4    Yes         Maried           120K    No\n",
      "4    5     No       Divorced            95K   Yes\n",
      "5    6     No         Maried            60K    No\n",
      "6    7    Yes       Divorced           220K    No\n",
      "7    8     No         Single            85K   Yes\n",
      "\n",
      " \n",
      " task 2 \n",
      "\n"
     ]
    },
    {
     "name": "stdout",
     "output_type": "stream",
     "text": [
      "  Martial Status Taxable Income Cheat\n",
      "4       Divorced            95K   Yes\n",
      "5         Maried            60K    No\n",
      "6       Divorced           220K    No\n",
      "7         Single            85K   Yes\n",
      "8         Maried            75K    No\n",
      "\n",
      " \n",
      " task 3 \n",
      "\n",
      "  Refund Martial Status Taxable Income\n",
      "0    Yes         Single           125K\n",
      "1     No         Maried           100K\n",
      "2     No         Single            70K\n",
      "3    Yes         Maried           120K\n",
      "4     No       Divorced            95K\n",
      "5     No         Maried            60K\n",
      "6    Yes       Divorced           220K\n",
      "7     No         Single            85K\n",
      "8     No         Maried            75K\n",
      "9     No       Divorced            90K\n"
     ]
    }
   ],
   "source": [
    "print(\"task1 \\n\")\n",
    "s1 = df.loc[3:7]\n",
    "print(s1)\n",
    "print(\"\\n \\n task 2 \\n\")\n",
    "s2 = df.iloc[4:9,2:5]\n",
    "print(s2)\n",
    "print(\"\\n \\n task 3 \\n\")\n",
    "s3=df.iloc[:,1:4]\n",
    "print(s3)"
   ]
  },
  {
   "cell_type": "markdown",
   "metadata": {},
   "source": [
    "Q.4 Read a csv file and display its first five rows. "
   ]
  },
  {
   "cell_type": "code",
   "execution_count": 112,
   "metadata": {},
   "outputs": [
    {
     "name": "stdout",
     "output_type": "stream",
     "text": [
      "   sepal_length  sepal_width  petal_length  petal_width      species\n",
      "0           5.1          3.5           1.4          0.2  Iris-setosa\n",
      "1           4.9          3.0           1.4          0.2  Iris-setosa\n",
      "2           4.7          3.2           1.3          0.2  Iris-setosa\n",
      "3           4.6          3.1           1.5          0.2  Iris-setosa\n",
      "4           5.0          3.6           1.4          0.2  Iris-setosa\n"
     ]
    }
   ],
   "source": [
    "data = pd.read_csv(\"IRIS.csv\")\n",
    "df2 = pd.DataFrame(data)\n",
    "rows = df2.head()\n",
    "print(rows)\n"
   ]
  },
  {
   "cell_type": "markdown",
   "metadata": {},
   "source": [
    "Q.5 From the csv file (uploaded in the Q.4) delete row 4, and delete column 3. Display the\n",
    "result."
   ]
  },
  {
   "cell_type": "code",
   "execution_count": 113,
   "metadata": {},
   "outputs": [
    {
     "name": "stdout",
     "output_type": "stream",
     "text": [
      "     sepal_length  sepal_width  petal_width         species\n",
      "0             5.1          3.5          0.2     Iris-setosa\n",
      "1             4.9          3.0          0.2     Iris-setosa\n",
      "2             4.7          3.2          0.2     Iris-setosa\n",
      "3             4.6          3.1          0.2     Iris-setosa\n",
      "5             5.4          3.9          0.4     Iris-setosa\n",
      "..            ...          ...          ...             ...\n",
      "145           6.7          3.0          2.3  Iris-virginica\n",
      "146           6.3          2.5          1.9  Iris-virginica\n",
      "147           6.5          3.0          2.0  Iris-virginica\n",
      "148           6.2          3.4          2.3  Iris-virginica\n",
      "149           5.9          3.0          1.8  Iris-virginica\n",
      "\n",
      "[149 rows x 4 columns]\n"
     ]
    }
   ],
   "source": [
    "df2.drop(index=4,columns=df2.columns[2],inplace=True)\n",
    "print(df2)"
   ]
  },
  {
   "cell_type": "markdown",
   "metadata": {},
   "source": [
    "Q.6 Create a sample dataset (employees.csv) containing information about employees in\n",
    "a company.\n",
    "WAP to determine the following using dataset in Q6:\n",
    "a) Shape (number of rows and columns) of the DataFrame.\n",
    "b) Summary of the DataFrame that includes the data types and non-null counts for\n",
    "each column.\n",
    "c) Generate descriptive statistics.\n",
    "d) Display the first 5 rows and last 3 rows of the dataset.\n",
    "e) Calculate the following statistics from the dataset:\n",
    "i. The average salary of employees.\n",
    "ii. The total bonus paid to all employees.\n",
    "iii. The youngest employee's age.\n",
    "iv. The highest performance rating.\n",
    "\n",
    "f) Sort the DataFrame by the Salary column in descending order.\n",
    "g) Add a new column that categorizes employees based on their performance rating:\n",
    "\n",
    "i. Excellent for ratings >= 4.5\n",
    "ii. Good for ratings >= 4.0 but < 4.5\n",
    "iii. Average for ratings < 4.0\n",
    "h) Identify missing values in the DataFrame.\n",
    "i) Rename the Employee_ID column to ID.\n",
    "j) Find all employees who:\n",
    "\n",
    "i. Have more than 5 years of experience.\n",
    "ii. Belong to the IT department.\n",
    "\n",
    "k) Modify the dataset by adding a new column, Tax, which deducts 10% of the\n",
    "Salary.\n",
    "l) Save the modified DataFrame (with added columns) to a new CSV file."
   ]
  },
  {
   "cell_type": "code",
   "execution_count": 114,
   "metadata": {},
   "outputs": [],
   "source": [
    "data1 = pd.read_csv(\"firstcs.csv\")\n",
    "df3 = pd.DataFrame(data1)\n",
    "# print(data1)\n",
    "# a)\n",
    "\n",
    "print(\"\\n shape of dataframe \",df3.shape)\n",
    "\n",
    "# # b)\n",
    "print(\"\\n data-types and non counts \\n \\n\")\n",
    "df3.info()\n",
    "\n",
    "# c)\n",
    "print(\"\\n \\n descriptive statistics \\n\",df3.describe())\n",
    "\n",
    "# d)\n",
    "print(df3.head(5))\n",
    "print(df3.tail(3))\n",
    "\n",
    "# # e)\n",
    "stats  = df3.describe()\n",
    "print(stats)\n",
    "print(stats.loc['mean','Salary'])\n",
    "print(stats.loc['min','Age'])\n",
    "count = stats.loc['count','Bonus']\n",
    "mean = stats.loc['mean','Bonus']\n",
    "print(mean*count)\n",
    "print(stats.loc['max','Rating'])\n",
    "\n",
    "# f)\n",
    "df_sorted = df3.sort_values(by='Salary',ascending=False)\n",
    "# print(df_sorted)\n",
    "\n",
    "# g)\n",
    "def categorize(rating):\n",
    "    if rating >=4.5:\n",
    "        return \"Excellent\"\n",
    "    elif rating >= 4.0:\n",
    "        return \"Good\"\n",
    "    else:\n",
    "        return \"Average\"\n",
    "    \n",
    "df_sorted['Performance']= df_sorted['Rating'].apply(categorize)\n",
    "# print(df_sorted)\n",
    "\n",
    "missing_values = df_sorted.isnull().sum()\n",
    "# print(missing_values)\n",
    "\n",
    "\n",
    "df_sorted.rename(columns = {'Employee_ID':'ID'},inplace=True)\n",
    "# print(df_sorted)\n",
    "\n",
    "experienced_employees = df_sorted[df_sorted['Years_of_Experience'] > 5]\n",
    "# print(experienced_employees)\n",
    "\n",
    "IT_dept = df_sorted[df_sorted['Department']=='IT']\n",
    "# print(IT_dept)\n",
    "\n",
    "df_sorted['Tax'] = df_sorted['Salary']*0.10\n",
    "# print(df_sorted)\n",
    "\n",
    "\n",
    "df_sorted.to_csv('modified_employees.csv', index=False)\n",
    "\n",
    "\n",
    "\n",
    "\n",
    "\n",
    "\n",
    "\n",
    "\n"
   ]
  }
 ],
 "metadata": {
  "kernelspec": {
   "display_name": "Python 3",
   "language": "python",
   "name": "python3"
  },
  "language_info": {
   "codemirror_mode": {
    "name": "ipython",
    "version": 3
   },
   "file_extension": ".py",
   "mimetype": "text/x-python",
   "name": "python",
   "nbconvert_exporter": "python",
   "pygments_lexer": "ipython3",
   "version": "3.12.3"
  }
 },
 "nbformat": 4,
 "nbformat_minor": 2
}
