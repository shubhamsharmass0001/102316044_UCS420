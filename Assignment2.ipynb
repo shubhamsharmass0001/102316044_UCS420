{
 "cells": [
  {
   "cell_type": "markdown",
   "metadata": {},
   "source": [
    "Question 1\n",
    "1. Create a List L that is defined as= [10, 20, 30, 40, 50, 60, 70, 80].\n",
    "i. WAP to add 200 and 300 to L.\n",
    "ii. WAP to remove 10 and 30 from L.\n",
    "iii. WAP to sort L in ascending order.\n",
    "iv. WAP to sort L in descending order."
   ]
  },
  {
   "cell_type": "code",
   "execution_count": null,
   "metadata": {},
   "outputs": [],
   "source": [
    "L = [10, 20, 30, 40, 50, 60, 70, 80]\n",
    "L.extend([200,300])\n",
    "print(L)\n",
    "L.remove(10)\n",
    "print(L)\n",
    "del L[1]\n",
    "print(L)\n",
    "L.sort(reverse=True)\n",
    "print(L)\n",
    "L.sort()\n",
    "print(L)"
   ]
  },
  {
   "cell_type": "markdown",
   "metadata": {},
   "source": [
    "Question 2\n",
    "Create a tuple of marks scored as scores = (45, 89.5, 76, 45.4, 89, 92, 58, 45) and\n",
    "perform the following operations using tuple functions:\n",
    "i. Identify the highest score and its index in the tuple.\n",
    "ii. Find the lowest score and count how many times it appears.\n",
    "iii. Reverse the tuple and return it as a list.\n",
    "iv. Check if a specific score ‘76’ (input by the user) is present in the tuple and\n",
    "print its first occurrence index, or a message saying it’s not present."
   ]
  },
  {
   "cell_type": "code",
   "execution_count": null,
   "metadata": {},
   "outputs": [],
   "source": [
    "scores = (45, 89.5, 76, 45.4, 89, 92, 58, 45)\n",
    "maxScore = max(scores)\n",
    "maxidx = scores.index(92)\n",
    "print(\"%d %d\"%(maxScore,maxidx))\n",
    "minScore= min(scores)\n",
    "minCount = scores.count(minScore)\n",
    "print(\"%d %d\"%(minScore,minCount))\n",
    "Tscore = list(scores)\n",
    "Tscore.reverse()\n",
    "print(Tscore)\n",
    "n = int(input(\"Enter number to check whether it is present in tuple or not\"))\n",
    "print(n in scores)\n",
    "if n in scores :\n",
    "    print(scores.index(n))\n",
    "else : \n",
    "    print(\"It is not present\") \n",
    "\n",
    "\n"
   ]
  },
  {
   "cell_type": "markdown",
   "metadata": {},
   "source": [
    "Question 3\n",
    "WAP to create a list of 100 random numbers between 100 and 900. Count and print\n",
    "the:\n",
    "i. All odd numbers\n",
    "ii. All even numbers\n",
    "iii. All prime numbers"
   ]
  },
  {
   "cell_type": "code",
   "execution_count": null,
   "metadata": {},
   "outputs": [],
   "source": [
    "import random\n",
    "\n",
    "def isPrime(x):\n",
    "  if x<=1:\n",
    "    return False\n",
    "  for i in range(2,x//2+1):\n",
    "    if x%i ==0 :\n",
    "      return False\n",
    "  return True\n",
    "  \n",
    "L = random.sample(range(100,901),100)\n",
    "print(L)\n",
    "oddList = list(filter(lambda x:x%2 != 0,L))\n",
    "print(oddList,len(oddList))\n",
    "evenList = list(filter(lambda x: x%2 == 0,L))\n",
    "print(evenList,len(evenList))\n",
    "PrimeList = list(filter(isPrime,L))\n",
    "print(PrimeList,len(PrimeList))\n",
    "\n",
    "\n"
   ]
  },
  {
   "cell_type": "markdown",
   "metadata": {},
   "source": [
    "Question 4\n",
    "Consider the following two sets, A and B, represenƟng scores of two teams in mulƟple\n",
    "matches. A = {34, 56, 78, 90} and B = {78, 45, 90, 23}\n",
    "WAP to perform the following operaƟons using set funcƟons:\n",
    "i. Find the unique scores achieved by both teams (union of sets).\n",
    "ii. IdenƟfy the scores that are common to both teams (intersecƟon of sets).\n",
    "iii. Find the scores that are exclusive to each team (symmetric difference).\n",
    "iv. Check if the scores of team A are a subset of team B, and if team B's scores are\n",
    "a superset of team A.\n",
    "v. Remove a specific score X (input by the user) from set A if it exists. If not, print\n",
    "a message saying it is not present."
   ]
  },
  {
   "cell_type": "code",
   "execution_count": null,
   "metadata": {},
   "outputs": [],
   "source": [
    "A = {34, 56, 78, 90}\n",
    "B = {78, 45, 90, 23}\n",
    "unique_scores = A.union(B)\n",
    "print(unique_scores)\n",
    "common_scores = A & B\n",
    "print(common_scores)\n",
    "exclusive_scores = A.symmetric_difference(B)\n",
    "print(exclusive_scores)\n",
    "isSub = A<=B\n",
    "print(isSub)\n",
    "X = int(input(\"Enter score to remove\"))\n",
    "if X in A:\n",
    "    A.remove(X)\n",
    "else:\n",
    "    print(\"It is not present\")\n",
    "print(A)"
   ]
  },
  {
   "cell_type": "markdown",
   "metadata": {},
   "source": [
    "Question 5\n",
    "Write a program to rename a key city to a locaƟon in the following dicƟonary."
   ]
  },
  {
   "cell_type": "code",
   "execution_count": null,
   "metadata": {},
   "outputs": [],
   "source": [
    "sample_dict = {\n",
    "    \"name\" : \"Kelly\",\n",
    "    \"age\" : 25,\n",
    "    \"salary\" : 8000,\n",
    "    \"city\" : \"New York\"\n",
    "}\n",
    "print(sample_dict)\n",
    "key_mapping ={\"city\":\"location\"}\n",
    "for old_key,new_key in key_mapping.items():\n",
    "    if old_key in sample_dict:\n",
    "        sample_dict[new_key] = sample_dict.pop(old_key) \n",
    "print(sample_dict)\n"
   ]
  }
 ],
 "metadata": {
  "kernelspec": {
   "display_name": "Python 3",
   "language": "python",
   "name": "python3"
  },
  "language_info": {
   "codemirror_mode": {
    "name": "ipython",
    "version": 3
   },
   "file_extension": ".py",
   "mimetype": "text/x-python",
   "name": "python",
   "nbconvert_exporter": "python",
   "pygments_lexer": "ipython3",
   "version": "3.12.3"
  }
 },
 "nbformat": 4,
 "nbformat_minor": 2
}
