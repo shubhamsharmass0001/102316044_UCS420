{
  "nbformat": 4,
  "nbformat_minor": 0,
  "metadata": {
    "colab": {
      "provenance": []
    },
    "kernelspec": {
      "name": "python3",
      "display_name": "Python 3"
    },
    "language_info": {
      "name": "python"
    }
  },
  "cells": [
    {
      "cell_type": "markdown",
      "source": [
        "QUESTION 1:- Create a dataset (.csv file) having following features- experience of the candidate,\n",
        "written score, interview score and salary. Based on three input features, HR decide\n",
        "the salary of the selected candidates. Using this data, KNN model build a for HR\n",
        "department that can help them decide salaries of the candidates. Predict the salaries\n",
        "for the following candidates, by executing the model (for different values of K):\n",
        "\n",
        "(a) 5 Yrs experience, 8 written test score, 10 interview score\n",
        "\n",
        "(b) 8 Yrs experience, 7 written test score, 6 interview score\n"
      ],
      "metadata": {
        "id": "HWjPi7wNq3QM"
      }
    },
    {
      "cell_type": "code",
      "execution_count": null,
      "metadata": {
        "colab": {
          "base_uri": "https://localhost:8080/"
        },
        "id": "Ta15xUgrnPJe",
        "outputId": "84afdc43-b76e-45ab-b62e-c75c211a36fa"
      },
      "outputs": [
        {
          "output_type": "stream",
          "name": "stdout",
          "text": [
            "Dataset created and saved as 'hr_salary_data.csv'.\n",
            "\n",
            "Salary Predictions (KNN Regression):\n",
            "\n",
            "For K = 1:\n",
            "(a) 5 Yrs, Written=8, Interview=10 ➜ Predicted Salary = ₹60,000.00\n",
            "(b) 8 Yrs, Written=7, Interview=6  ➜ Predicted Salary = ₹80,000.00\n",
            "\n",
            "For K = 3:\n",
            "(a) 5 Yrs, Written=8, Interview=10 ➜ Predicted Salary = ₹61,666.67\n",
            "(b) 8 Yrs, Written=7, Interview=6  ➜ Predicted Salary = ₹75,000.00\n",
            "\n",
            "For K = 5:\n",
            "(a) 5 Yrs, Written=8, Interview=10 ➜ Predicted Salary = ₹60,000.00\n",
            "(b) 8 Yrs, Written=7, Interview=6  ➜ Predicted Salary = ₹70,000.00\n"
          ]
        },
        {
          "output_type": "stream",
          "name": "stderr",
          "text": [
            "/usr/local/lib/python3.11/dist-packages/sklearn/utils/validation.py:2739: UserWarning: X does not have valid feature names, but KNeighborsRegressor was fitted with feature names\n",
            "  warnings.warn(\n",
            "/usr/local/lib/python3.11/dist-packages/sklearn/utils/validation.py:2739: UserWarning: X does not have valid feature names, but KNeighborsRegressor was fitted with feature names\n",
            "  warnings.warn(\n",
            "/usr/local/lib/python3.11/dist-packages/sklearn/utils/validation.py:2739: UserWarning: X does not have valid feature names, but KNeighborsRegressor was fitted with feature names\n",
            "  warnings.warn(\n"
          ]
        }
      ],
      "source": [
        "import pandas as pd\n",
        "from sklearn.neighbors import KNeighborsRegressor\n",
        "from sklearn.model_selection import train_test_split\n",
        "import matplotlib.pyplot as plt\n",
        "\n",
        "\n",
        "data = {\n",
        "    'Experience': [1, 3, 5, 7, 9, 2, 4, 6, 8, 10],\n",
        "    'WrittenScore': [6, 7, 9, 6, 8, 7, 9, 5, 6, 10],\n",
        "    'InterviewScore': [7, 6, 8, 9, 6, 5, 7, 9, 5, 9],\n",
        "    'Salary': [40000, 50000, 60000, 70000, 80000, 45000, 55000, 65000, 75000, 90000]\n",
        "}\n",
        "df = pd.DataFrame(data)\n",
        "df.to_csv('hr_salary_data.csv', index=False)\n",
        "print(\"Dataset created and saved as 'hr_salary_data.csv'.\")\n",
        "\n",
        "\n",
        "df = pd.read_csv('hr_salary_data.csv')\n",
        "\n",
        "\n",
        "X = df[['Experience', 'WrittenScore', 'InterviewScore']]\n",
        "y = df['Salary']\n",
        "\n",
        "test_candidates = [\n",
        "    [5, 8, 10],  # Candidate A\n",
        "    [8, 7, 6]    # Candidate B\n",
        "]\n",
        "\n",
        "print(\"\\nSalary Predictions (KNN Regression):\")\n",
        "for k in [1, 3, 5]:\n",
        "    model = KNeighborsRegressor(n_neighbors=k)\n",
        "    model.fit(X, y)\n",
        "\n",
        "    predictions = model.predict(test_candidates)\n",
        "    print(f\"\\nFor K = {k}:\")\n",
        "    print(f\"(a) 5 Yrs, Written=8, Interview=10 ➜ Predicted Salary = ₹{predictions[0]:,.2f}\")\n",
        "    print(f\"(b) 8 Yrs, Written=7, Interview=6  ➜ Predicted Salary = ₹{predictions[1]:,.2f}\")\n"
      ]
    },
    {
      "cell_type": "markdown",
      "source": [
        "QUESTION 2:- Create a dataset (.csv file) having following features- Graduations percentage,\n",
        "experience of the candidate, written score, interview score and selection. Selection\n",
        "feature is binary in nature and contains the status of the candidate. Also store at least\n",
        "25 records in this dataset.\n",
        "\n",
        "Using this data, build a Bayesian learning model for HR department that can help\n",
        "them to decide whether the candidate will be selected or not. Take 80% data as\n",
        "training data and remaining a testing data randomly. Using the built model, predict\n",
        "the status for the following unseen data:\n",
        "\n",
        "(a) 90 %, 5 Yrs experience, 8 written test score, 10 interview score\n",
        "\n",
        "(b) 75%, 8 Yrs experience, 7 written test score, 6 interview score\n",
        "\n",
        "Also calculate the possible classification metrics for the above cases and save these\n",
        "values in the .CSV file."
      ],
      "metadata": {
        "id": "D4Wr5uhlqz6s"
      }
    },
    {
      "cell_type": "code",
      "source": [
        "import pandas as pd\n",
        "import numpy as np\n",
        "from sklearn.model_selection import train_test_split\n",
        "from sklearn.naive_bayes import GaussianNB\n",
        "from sklearn.metrics import classification_report, accuracy_score, precision_score, recall_score, f1_score\n",
        "\n",
        "\n",
        "data = {\n",
        "    'Graduation%': [85, 70, 60, 90, 88, 76, 65, 92, 80, 78, 55, 83, 67, 91, 82, 74, 68, 69, 73, 79, 81, 60, 58, 95, 87],\n",
        "    'Experience': [2, 3, 1, 5, 4, 6, 2, 7, 3, 5, 1, 4, 2, 6, 4, 3, 2, 3, 4, 5, 3, 1, 2, 6, 5],\n",
        "    'WrittenScore': [6, 5, 4, 8, 7, 6, 5, 9, 7, 8, 3, 7, 4, 9, 6, 6, 4, 5, 6, 8, 7, 3, 4, 9, 8],\n",
        "    'InterviewScore': [7, 6, 5, 9, 8, 7, 5, 10, 7, 9, 4, 8, 5, 9, 7, 6, 5, 6, 7, 9, 8, 4, 4, 10, 9],\n",
        "    'Selection': [1, 0, 0, 1, 1, 1, 0, 1, 1, 1, 0, 1, 0, 1, 1, 0, 0, 0, 1, 1, 1, 0, 0, 1, 1]\n",
        "}\n",
        "df = pd.DataFrame(data)\n",
        "df.to_csv(\"candidate_selection_data.csv\", index=False)\n",
        "\n",
        "df = pd.read_csv(\"candidate_selection_data.csv\")\n",
        "\n",
        "\n",
        "X = df[['Graduation%', 'Experience', 'WrittenScore', 'InterviewScore']]\n",
        "y = df['Selection']\n",
        "\n",
        "# Random split (80% train, 20% test)\n",
        "X_train, X_test, y_train, y_test = train_test_split(X, y, test_size=0.2, random_state=42)\n",
        "\n",
        "model = GaussianNB()\n",
        "model.fit(X_train, y_train)\n",
        "\n",
        "\n",
        "unseen_data = [\n",
        "    [90, 5, 8, 10],   # Candidate A\n",
        "    [75, 8, 7, 6]     # Candidate B\n",
        "]\n",
        "predictions = model.predict(unseen_data)\n",
        "\n",
        "\n",
        "y_pred_test = model.predict(X_test)\n",
        "accuracy = accuracy_score(y_test, y_pred_test)\n",
        "precision = precision_score(y_test, y_pred_test)\n",
        "recall = recall_score(y_test, y_pred_test)\n",
        "f1 = f1_score(y_test, y_pred_test)\n",
        "\n",
        "\n",
        "results = pd.DataFrame({\n",
        "    'Candidate': ['A', 'B'],\n",
        "    'Graduation%': [90, 75],\n",
        "    'Experience': [5, 8],\n",
        "    'WrittenScore': [8, 7],\n",
        "    'InterviewScore': [10, 6],\n",
        "    'PredictedSelection': predictions\n",
        "})\n",
        "\n",
        "metrics_df = pd.DataFrame({\n",
        "    'Metric': ['Accuracy', 'Precision', 'Recall', 'F1 Score'],\n",
        "    'Value': [accuracy, precision, recall, f1]\n",
        "})\n",
        "\n",
        "\n",
        "results.to_csv('predictions_output.csv', index=False)\n",
        "metrics_df.to_csv('classification_metrics.csv', index=False)\n",
        "\n",
        "\n",
        "print(\" Predictions:\")\n",
        "print(results)\n",
        "print(\"\\n Classification Metrics on Test Data:\")\n",
        "print(metrics_df)\n"
      ],
      "metadata": {
        "colab": {
          "base_uri": "https://localhost:8080/"
        },
        "id": "RCpjYHXyrt1q",
        "outputId": "1e1a5455-6291-4995-9b17-930fd4b1275d"
      },
      "execution_count": null,
      "outputs": [
        {
          "output_type": "stream",
          "name": "stdout",
          "text": [
            " Predictions:\n",
            "  Candidate  Graduation%  Experience  WrittenScore  InterviewScore  \\\n",
            "0         A           90           5             8              10   \n",
            "1         B           75           8             7               6   \n",
            "\n",
            "   PredictedSelection  \n",
            "0                   1  \n",
            "1                   1  \n",
            "\n",
            " Classification Metrics on Test Data:\n",
            "      Metric  Value\n",
            "0   Accuracy    1.0\n",
            "1  Precision    1.0\n",
            "2     Recall    1.0\n",
            "3   F1 Score    1.0\n"
          ]
        },
        {
          "output_type": "stream",
          "name": "stderr",
          "text": [
            "/usr/local/lib/python3.11/dist-packages/sklearn/utils/validation.py:2739: UserWarning: X does not have valid feature names, but GaussianNB was fitted with feature names\n",
            "  warnings.warn(\n"
          ]
        }
      ]
    },
    {
      "cell_type": "markdown",
      "source": [
        "QUESTION 3:- For the IRIS dataset, design a decision tree classifier. Take different percentage of\n",
        "training data and then observe effect on the accuracy and other quality parameters.\n",
        "Also note the effect of other decision tree parameters (like max depth,\n",
        "min_sample_spit etc.) on the performance of the model.\n",
        "\n",
        "Note: Take criterion as entropy."
      ],
      "metadata": {
        "id": "i_MzkN7VsXG2"
      }
    },
    {
      "cell_type": "code",
      "source": [
        "import pandas as pd\n",
        "import numpy as np\n",
        "from sklearn.datasets import load_iris\n",
        "from sklearn.model_selection import train_test_split\n",
        "from sklearn.tree import DecisionTreeClassifier\n",
        "from sklearn.metrics import classification_report, accuracy_score\n",
        "import matplotlib.pyplot as plt\n",
        "\n",
        "\n",
        "iris = load_iris()\n",
        "X = iris.data\n",
        "y = iris.target\n",
        "feature_names = iris.feature_names\n",
        "target_names = iris.target_names\n",
        "\n",
        "# Function to evaluate model performance\n",
        "def evaluate_model(train_size, max_depth=None, min_samples_split=2):\n",
        "    X_train, X_test, y_train, y_test = train_test_split(\n",
        "        X, y, train_size=train_size, random_state=42, stratify=y\n",
        "    )\n",
        "\n",
        "    clf = DecisionTreeClassifier(criterion='entropy',\n",
        "                                 max_depth=max_depth,\n",
        "                                 min_samples_split=min_samples_split,\n",
        "                                 random_state=42)\n",
        "    clf.fit(X_train, y_train)\n",
        "    y_pred = clf.predict(X_test)\n",
        "\n",
        "    acc = accuracy_score(y_test, y_pred)\n",
        "    report = classification_report(y_test, y_pred, target_names=target_names, output_dict=True)\n",
        "\n",
        "    return acc, report['macro avg']['precision'], report['macro avg']['recall'], report['macro avg']['f1-score']\n",
        "\n",
        "# Step 2: Try different training sizes\n",
        "train_sizes = [0.5, 0.7, 0.8, 0.9]\n",
        "results = []\n",
        "\n",
        "for size in train_sizes:\n",
        "    acc, prec, rec, f1 = evaluate_model(train_size=size)\n",
        "    results.append({\n",
        "        'Train Size': size,\n",
        "        'Accuracy': acc,\n",
        "        'Precision': prec,\n",
        "        'Recall': rec,\n",
        "        'F1 Score': f1\n",
        "    })\n",
        "\n",
        "# Convert to DataFrame and display\n",
        "results_df = pd.DataFrame(results)\n",
        "print(\"Accuracy vs Training Size:\")\n",
        "print(results_df)\n",
        "\n",
        "# Step 3: Effect of max_depth and min_samples_split\n",
        "depths = [2, 3, 4, 5, None]\n",
        "splits = [2, 5, 10]\n",
        "\n",
        "tuning_results = []\n",
        "\n",
        "for d in depths:\n",
        "    for s in splits:\n",
        "        acc, prec, rec, f1 = evaluate_model(train_size=0.8, max_depth=d, min_samples_split=s)\n",
        "        tuning_results.append({\n",
        "            'Max Depth': d if d is not None else 'None',\n",
        "            'Min Samples Split': s,\n",
        "            'Accuracy': acc,\n",
        "            'Precision': prec,\n",
        "            'Recall': rec,\n",
        "            'F1 Score': f1\n",
        "        })\n",
        "\n",
        "tuning_df = pd.DataFrame(tuning_results)\n",
        "print(\"\\nParameter Tuning Results:\")\n",
        "print(tuning_df)\n",
        "\n",
        "# Optional: Save to CSV\n",
        "results_df.to_csv('iris_accuracy_vs_train_size.csv', index=False)\n",
        "tuning_df.to_csv('iris_tuning_results.csv', index=False)\n",
        "\n",
        "# Plotting (Optional)\n",
        "plt.figure(figsize=(8, 5))\n",
        "plt.plot(results_df['Train Size'], results_df['Accuracy'], marker='o', label='Accuracy')\n",
        "plt.plot(results_df['Train Size'], results_df['F1 Score'], marker='x', label='F1 Score')\n",
        "plt.title(\"Effect of Training Size on Accuracy and F1 Score\")\n",
        "plt.xlabel(\"Training Size\")\n",
        "plt.ylabel(\"Score\")\n",
        "plt.grid(True)\n",
        "plt.legend()\n",
        "plt.tight_layout()\n",
        "plt.show()\n"
      ],
      "metadata": {
        "colab": {
          "base_uri": "https://localhost:8080/",
          "height": 833
        },
        "id": "Wy3HHDvys5Xa",
        "outputId": "1d6bde02-f048-4d25-9101-843e1a911eee"
      },
      "execution_count": null,
      "outputs": [
        {
          "output_type": "stream",
          "name": "stdout",
          "text": [
            "Accuracy vs Training Size:\n",
            "   Train Size  Accuracy  Precision    Recall  F1 Score\n",
            "0         0.5  0.880000   0.898148  0.880000  0.877601\n",
            "1         0.7  0.888889   0.889881  0.888889  0.888765\n",
            "2         0.8  0.933333   0.933333  0.933333  0.933333\n",
            "3         0.9  0.866667   0.866667  0.866667  0.866667\n",
            "\n",
            "Parameter Tuning Results:\n",
            "   Max Depth  Min Samples Split  Accuracy  Precision    Recall  F1 Score\n",
            "0          2                  2  0.933333   0.933333  0.933333  0.933333\n",
            "1          2                  5  0.933333   0.933333  0.933333  0.933333\n",
            "2          2                 10  0.933333   0.933333  0.933333  0.933333\n",
            "3          3                  2  0.966667   0.969697  0.966667  0.966583\n",
            "4          3                  5  0.966667   0.969697  0.966667  0.966583\n",
            "5          3                 10  0.966667   0.969697  0.966667  0.966583\n",
            "6          4                  2  0.933333   0.933333  0.933333  0.933333\n",
            "7          4                  5  0.966667   0.969697  0.966667  0.966583\n",
            "8          4                 10  0.966667   0.969697  0.966667  0.966583\n",
            "9          5                  2  0.933333   0.933333  0.933333  0.933333\n",
            "10         5                  5  0.966667   0.969697  0.966667  0.966583\n",
            "11         5                 10  0.966667   0.969697  0.966667  0.966583\n",
            "12      None                  2  0.933333   0.933333  0.933333  0.933333\n",
            "13      None                  5  0.966667   0.969697  0.966667  0.966583\n",
            "14      None                 10  0.966667   0.969697  0.966667  0.966583\n"
          ]
        },
        {
          "output_type": "display_data",
          "data": {
            "text/plain": [
              "<Figure size 800x500 with 1 Axes>"
            ],
            "image/png": "[encoded data removed]"
          },
          "metadata": {}
        }
      ]
    },
    {
      "cell_type": "markdown",
      "source": [
        "QUESTION 4:- By taking Classified Data as input, compare the performance of KNN, Bayesian\n",
        "Classifier and Decision Tree model. In this comparison, you can take different\n",
        "possible parameters of particular model. Save these output in a .csv file."
      ],
      "metadata": {
        "id": "3MbXyppFtPuY"
      }
    },
    {
      "cell_type": "code",
      "source": [
        "import pandas as pd\n",
        "from sklearn.datasets import load_iris\n",
        "from sklearn.model_selection import train_test_split\n",
        "from sklearn.preprocessing import StandardScaler\n",
        "from sklearn.metrics import accuracy_score, precision_score, recall_score, f1_score\n",
        "from sklearn.neighbors import KNeighborsClassifier\n",
        "from sklearn.naive_bayes import GaussianNB\n",
        "from sklearn.tree import DecisionTreeClassifier\n",
        "\n",
        "# Step 1: Load classified data (you can replace this with your .csv)\n",
        "data = load_iris()\n",
        "X = data.data\n",
        "y = data.target\n",
        "target_names = data.target_names\n",
        "\n",
        "# Step 2: Train-test split\n",
        "X_train, X_test, y_train, y_test = train_test_split(X, y, test_size=0.3, random_state=42, stratify=y)\n",
        "\n",
        "# Step 3: Scale data for KNN\n",
        "scaler = StandardScaler()\n",
        "X_train_scaled = scaler.fit_transform(X_train)\n",
        "X_test_scaled = scaler.transform(X_test)\n",
        "\n",
        "# Store results\n",
        "results = []\n",
        "\n",
        "# Step 4: KNN Model (try different k values)\n",
        "for k in [3, 5, 7]:\n",
        "    knn = KNeighborsClassifier(n_neighbors=k)\n",
        "    knn.fit(X_train_scaled, y_train)\n",
        "    y_pred = knn.predict(X_test_scaled)\n",
        "\n",
        "    results.append({\n",
        "        'Model': f'KNN (k={k})',\n",
        "        'Accuracy': accuracy_score(y_test, y_pred),\n",
        "        'Precision': precision_score(y_test, y_pred, average='macro'),\n",
        "        'Recall': recall_score(y_test, y_pred, average='macro'),\n",
        "        'F1 Score': f1_score(y_test, y_pred, average='macro')\n",
        "    })\n",
        "\n",
        "# Step 5: Naive Bayes (no params to tune for GaussianNB)\n",
        "nb = GaussianNB()\n",
        "nb.fit(X_train, y_train)\n",
        "y_pred = nb.predict(X_test)\n",
        "\n",
        "results.append({\n",
        "    'Model': 'Naive Bayes',\n",
        "    'Accuracy': accuracy_score(y_test, y_pred),\n",
        "    'Precision': precision_score(y_test, y_pred, average='macro'),\n",
        "    'Recall': recall_score(y_test, y_pred, average='macro'),\n",
        "    'F1 Score': f1_score(y_test, y_pred, average='macro')\n",
        "})\n",
        "\n",
        "# Step 6: Decision Tree (with different depths)\n",
        "for d in [3, 4, None]:\n",
        "    tree = DecisionTreeClassifier(criterion='entropy', max_depth=d, random_state=42)\n",
        "    tree.fit(X_train, y_train)\n",
        "    y_pred = tree.predict(X_test)\n",
        "\n",
        "    results.append({\n",
        "        'Model': f'Decision Tree (depth={d})',\n",
        "        'Accuracy': accuracy_score(y_test, y_pred),\n",
        "        'Precision': precision_score(y_test, y_pred, average='macro'),\n",
        "        'Recall': recall_score(y_test, y_pred, average='macro'),\n",
        "        'F1 Score': f1_score(y_test, y_pred, average='macro')\n",
        "    })\n",
        "\n",
        "# Step 7: Save to CSV\n",
        "df_results = pd.DataFrame(results)\n",
        "df_results.to_csv('model_comparison_results.csv', index=False)\n",
        "\n",
        "# Display results\n",
        "print(\"Model Comparison Results:\")\n",
        "print(df_results)\n"
      ],
      "metadata": {
        "colab": {
          "base_uri": "https://localhost:8080/"
        },
        "id": "Z6mzbM7_thDF",
        "outputId": "f5cba1b9-6ba5-4f2a-ab11-1f20f502b755"
      },
      "execution_count": null,
      "outputs": [
        {
          "output_type": "stream",
          "name": "stdout",
          "text": [
            "Model Comparison Results:\n",
            "                        Model  Accuracy  Precision    Recall  F1 Score\n",
            "0                   KNN (k=3)  0.911111   0.929825  0.911111  0.909502\n",
            "1                   KNN (k=5)  0.911111   0.929825  0.911111  0.909502\n",
            "2                   KNN (k=7)  0.933333   0.944444  0.933333  0.932660\n",
            "3                 Naive Bayes  0.911111   0.915535  0.911111  0.910714\n",
            "4     Decision Tree (depth=3)  0.933333   0.944444  0.933333  0.932660\n",
            "5     Decision Tree (depth=4)  0.888889   0.889881  0.888889  0.888765\n",
            "6  Decision Tree (depth=None)  0.888889   0.889881  0.888889  0.888765\n"
          ]
        }
      ]
    }
  ]
}